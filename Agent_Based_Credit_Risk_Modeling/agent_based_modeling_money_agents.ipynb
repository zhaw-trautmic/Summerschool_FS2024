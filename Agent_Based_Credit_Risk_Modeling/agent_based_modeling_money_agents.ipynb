{
 "cells": [
  {
   "attachments": {},
   "cell_type": "markdown",
   "id": "b5b3fa4c",
   "metadata": {},
   "source": [
    "# Agent-based modeling: Money agents\n",
    "\n",
    "Summer School Bayonne July 2024<br>\n",
    "Lecturer: Dr. Mario Gellrich<br>\n",
    "Example taken from: https://mesa.readthedocs.io/en/stable/tutorials/intro_tutorial.html<br><br>\n",
    "Last update: 2024-07-01"
   ]
  },
  {
   "attachments": {},
   "cell_type": "markdown",
   "id": "23dda95b",
   "metadata": {},
   "source": [
    "## Libraries and settings"
   ]
  },
  {
   "cell_type": "code",
   "execution_count": null,
   "id": "dd9f9b5c",
   "metadata": {},
   "outputs": [],
   "source": [
    "# Libraries\n",
    "import os\n",
    "import numpy as np\n",
    "import matplotlib.pyplot as plt\n",
    "\n",
    "from mesa import Agent, Model\n",
    "from mesa.space import MultiGrid\n",
    "from mesa.time import RandomActivation\n",
    "from mesa.datacollection import DataCollector\n",
    "\n",
    "# Ignore warnings\n",
    "import warnings\n",
    "warnings.filterwarnings('ignore')\n",
    "\n",
    "# Show current working directory\n",
    "print(os.getcwd())"
   ]
  },
  {
   "attachments": {},
   "cell_type": "markdown",
   "id": "5aed36a8",
   "metadata": {},
   "source": [
    "## Create a MoneyAgent class"
   ]
  },
  {
   "cell_type": "code",
   "execution_count": null,
   "id": "b4dd67d6",
   "metadata": {},
   "outputs": [],
   "source": [
    "# MoneyAgent class\n",
    "class MoneyAgent(Agent):\n",
    "    \"\"\"An agent with fixed initial wealth.\"\"\"\n",
    "\n",
    "    def __init__(self, unique_id, model):\n",
    "        super().__init__(unique_id, model)\n",
    "        self.wealth = 1\n",
    "\n",
    "    # Method to move the agent on the grid\n",
    "    def move(self):\n",
    "        possible_steps = self.model.grid.get_neighborhood(\n",
    "            self.pos, moore=True, include_center=False\n",
    "        )\n",
    "        new_position = self.random.choice(possible_steps)\n",
    "        self.model.grid.move_agent(self, new_position)\n",
    "\n",
    "    # Method to give money to other agents\n",
    "    def give_money(self):\n",
    "        cellmates = self.model.grid.get_cell_list_contents([self.pos])\n",
    "        if len(cellmates) > 1:\n",
    "            other = self.random.choice(cellmates)\n",
    "            other.wealth += 1\n",
    "            self.wealth -= 1\n",
    "\n",
    "    # Step method (action the agent takes when it is activated by the schedule)\n",
    "    def step(self):\n",
    "        self.move()\n",
    "        if self.wealth > 0:\n",
    "            self.give_money()"
   ]
  },
  {
   "attachments": {},
   "cell_type": "markdown",
   "id": "fba6f185",
   "metadata": {},
   "source": [
    "## Function for the calculation of the Gini coefficient"
   ]
  },
  {
   "cell_type": "code",
   "execution_count": null,
   "id": "6ea0064c",
   "metadata": {},
   "outputs": [],
   "source": [
    "# Function to calculate the Gini coefficient (measure of wealth inequality)\n",
    "def compute_gini(model):\n",
    "    agent_wealths = [agent.wealth for agent in model.schedule.agents]\n",
    "    x = sorted(agent_wealths)\n",
    "    N = model.num_agents\n",
    "    B = sum(xi * (N - i) for i, xi in enumerate(x)) / (N * sum(x))\n",
    "    return 1 + (1 / N) - 2 * B"
   ]
  },
  {
   "attachments": {},
   "cell_type": "markdown",
   "id": "0f9cf36d",
   "metadata": {},
   "source": [
    "## Create a MoneyModel class"
   ]
  },
  {
   "cell_type": "code",
   "execution_count": null,
   "id": "80a58b28",
   "metadata": {},
   "outputs": [],
   "source": [
    "# MoneyModel class\n",
    "class MoneyModel(Model):\n",
    "    \"\"\"A model with some number of agents.\"\"\"\n",
    "\n",
    "    def __init__(self, N, width, height):\n",
    "        self.num_agents = N\n",
    "        self.grid = MultiGrid(width, height, True)\n",
    "        # Scheduler (controls the order in which agents are activated)\n",
    "        self.schedule = RandomActivation(self)\n",
    "\n",
    "        # Create agents using MoneyAgent class\n",
    "        for i in range(self.num_agents):\n",
    "            a = MoneyAgent(i, self)\n",
    "            self.schedule.add(a)\n",
    "            # Add the agent to a random grid cell\n",
    "            x = self.random.randrange(self.grid.width)\n",
    "            y = self.random.randrange(self.grid.height)\n",
    "            self.grid.place_agent(a, (x, y))\n",
    "\n",
    "        # Data collector (for Gini coefficient see function compute_gini())\n",
    "        self.datacollector = DataCollector(\n",
    "            model_reporters={\"Gini\": compute_gini}, agent_reporters={\"Wealth\": \"wealth\"}\n",
    "        )\n",
    "\n",
    "    def step(self):\n",
    "        self.datacollector.collect(self)\n",
    "        self.schedule.step()"
   ]
  },
  {
   "attachments": {},
   "cell_type": "markdown",
   "id": "bb8b8125",
   "metadata": {},
   "source": [
    "## Create a model and define the model parameters"
   ]
  },
  {
   "cell_type": "code",
   "execution_count": null,
   "id": "e81f3e6b",
   "metadata": {},
   "outputs": [],
   "source": [
    "# Create a model with 100 agents on a 20x20 grid, and run it for 100 steps\n",
    "model = MoneyModel(100, 20, 20)\n",
    "n_steps = 100\n",
    "\n",
    "# Create model iterations\n",
    "for i in range(n_steps):\n",
    "    model.step()"
   ]
  },
  {
   "attachments": {},
   "cell_type": "markdown",
   "id": "b1568165",
   "metadata": {},
   "source": [
    "## Visualize the number of agents on the grid"
   ]
  },
  {
   "cell_type": "code",
   "execution_count": null,
   "id": "e24f0edb",
   "metadata": {},
   "outputs": [],
   "source": [
    "# Count agents\n",
    "agent_counts = np.zeros((model.grid.width, model.grid.height))\n",
    "\n",
    "for cell in model.grid.coord_iter():\n",
    "    cell_content, x, y = cell\n",
    "    agent_count = len(cell_content)\n",
    "    agent_counts[x][y] = agent_count\n",
    "\n",
    "# Plot results\n",
    "plt.figure(figsize=(5,5))\n",
    "plt.imshow(agent_counts, interpolation=\"nearest\")\n",
    "plt.colorbar(fraction=0.046, pad=0.04)\n",
    "plt.title(f\"Agents wealth after {n_steps} model iterations.\")\n",
    "plt.xlabel('x-coordinate')\n",
    "plt.ylabel('y-coordinate')\n",
    "\n",
    "plt.show()"
   ]
  },
  {
   "attachments": {},
   "cell_type": "markdown",
   "id": "dcf08730",
   "metadata": {},
   "source": [
    "## Plot Gini coefficient per step"
   ]
  },
  {
   "cell_type": "code",
   "execution_count": null,
   "id": "2fbb0d29",
   "metadata": {},
   "outputs": [],
   "source": [
    "gini = model.datacollector.get_model_vars_dataframe()\n",
    "gini.plot(xlabel='Step', \n",
    "          ylabel='Gini coefficient', \n",
    "          title='Gini coefficient per step',\n",
    "          ylim=(0,1))"
   ]
  },
  {
   "attachments": {},
   "cell_type": "markdown",
   "id": "19e89f57",
   "metadata": {},
   "source": [
    "## Show wealth of all agents after model run"
   ]
  },
  {
   "cell_type": "code",
   "execution_count": null,
   "id": "2667c51e",
   "metadata": {},
   "outputs": [],
   "source": [
    "# Show wealth of all agents\n",
    "agent_wealth = model.datacollector.get_agent_vars_dataframe()\n",
    "agent_wealth"
   ]
  },
  {
   "attachments": {},
   "cell_type": "markdown",
   "id": "6ced3164",
   "metadata": {},
   "source": [
    "## Line chart of a single agent's wealth per model step"
   ]
  },
  {
   "cell_type": "code",
   "execution_count": null,
   "id": "cd84cfeb",
   "metadata": {},
   "outputs": [],
   "source": [
    "# Wealth of a single agent (agent 5 in this case)\n",
    "one_agent_wealth = agent_wealth.xs(5, level=\"AgentID\")\n",
    "one_agent_wealth.Wealth.plot(figsize=(6,4), \n",
    "                             xlabel='Step',\n",
    "                             ylabel='amount of money', \n",
    "                             title=\"Single agent's wealth per model step\")\n"
   ]
  },
  {
   "attachments": {},
   "cell_type": "markdown",
   "id": "b3a56266",
   "metadata": {},
   "source": [
    "## Distribution of wealth after model run"
   ]
  },
  {
   "cell_type": "code",
   "execution_count": null,
   "id": "189a7ce9",
   "metadata": {},
   "outputs": [],
   "source": [
    "# Distribution of wealth after model run \n",
    "end_wealth = agent_wealth.xs(n_steps - 1, level=\"Step\")[\"Wealth\"]\n",
    "end_wealth\n",
    "\n",
    "# Values\n",
    "df_bar = end_wealth.value_counts()\n",
    "num_agents = list(df_bar)\n",
    "wealth = list(df_bar.index.values)\n",
    "y_pos = np.arange(len(wealth))\n",
    "\n",
    "# Bar chart\n",
    "fig, ax = plt.subplots(figsize=(6,4))\n",
    "\n",
    "ax.bar(y_pos, num_agents, align='center', color='steelblue', alpha=0.8)\n",
    "ax.set_title('Number of agents with amount of money')\n",
    "ax.set_xlabel('amount of money')\n",
    "ax.set_ylabel('number of agents')\n",
    "\n",
    "# Show graph\n",
    "plt.show()\n"
   ]
  },
  {
   "attachments": {},
   "cell_type": "markdown",
   "id": "bf72e668",
   "metadata": {},
   "source": [
    "### Jupyter notebook --footer info-- (please always provide this at the end of each notebook)"
   ]
  },
  {
   "cell_type": "code",
   "execution_count": null,
   "id": "37a79ace",
   "metadata": {},
   "outputs": [],
   "source": [
    "import os\n",
    "import platform\n",
    "import socket\n",
    "from platform import python_version\n",
    "from datetime import datetime\n",
    "\n",
    "print('-----------------------------------')\n",
    "print(os.name.upper())\n",
    "print(platform.system(), '|', platform.release())\n",
    "print('Datetime:', datetime.now().strftime(\"%Y-%m-%d %H:%M:%S\"))\n",
    "print('Python Version:', python_version())\n",
    "print('-----------------------------------')"
   ]
  }
 ],
 "metadata": {
  "kernelspec": {
   "display_name": "Python 3 (ipykernel)",
   "language": "python",
   "name": "python3"
  },
  "language_info": {
   "codemirror_mode": {
    "name": "ipython",
    "version": 3
   },
   "file_extension": ".py",
   "mimetype": "text/x-python",
   "name": "python",
   "nbconvert_exporter": "python",
   "pygments_lexer": "ipython3",
   "version": "3.10.14"
  }
 },
 "nbformat": 4,
 "nbformat_minor": 5
}
