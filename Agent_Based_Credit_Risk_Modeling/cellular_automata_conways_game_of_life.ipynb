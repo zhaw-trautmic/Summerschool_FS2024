{
 "cells": [
  {
   "attachments": {},
   "cell_type": "markdown",
   "id": "a224f580",
   "metadata": {},
   "source": [
    "# Cellular Automata: Conway's Game of Life\n",
    "\n",
    "For details and alternative rules see: https://scientific-python.readthedocs.io/en/latest/notebooks_rst/0_Python/10_Examples/GameOfLife.html"
   ]
  },
  {
   "attachments": {},
   "cell_type": "markdown",
   "id": "93b13396",
   "metadata": {},
   "source": [
    "## Libraries and settings"
   ]
  },
  {
   "cell_type": "code",
   "execution_count": null,
   "id": "7a1ab34e",
   "metadata": {},
   "outputs": [],
   "source": [
    "# This exercise requires the 'ipympl' library\n",
    "\n",
    "# Libraries\n",
    "import os\n",
    "import numpy as np\n",
    "import pandas as pd\n",
    "import matplotlib.pyplot as plt\n",
    "from matplotlib import animation, rc, cm\n",
    "\n",
    "%matplotlib widget\n",
    "\n",
    "# Ignore warnings\n",
    "import warnings\n",
    "warnings.filterwarnings('ignore')\n",
    "\n",
    "# Show current working directory\n",
    "print(os.getcwd())"
   ]
  },
  {
   "cell_type": "code",
   "execution_count": null,
   "id": "4b327e97",
   "metadata": {},
   "outputs": [],
   "source": [
    "class LLCA:\n",
    "    \"\"\"\n",
    "    A Life Like Cellular Automaton (LLCA)\n",
    "\n",
    "    Inputs:\n",
    "    * C: a binary matrix representing the cells where 1 stands for alive and 0 for dead.\n",
    "    * rule: the rule of the in the format 'BXSY' where X and Y are the birth and survival conditions.\n",
    "            Example: GOL rule is \"B3S23\".\n",
    "    \"\"\"\n",
    "    def __init__(self, C = np.random.rand(50, 50), rule = \"B3S23\"):\n",
    "        self.C = np.array(C).astype(bool)\n",
    "        self.rule = rule\n",
    "\n",
    "    def parse_rule(self):\n",
    "        \"\"\"\n",
    "        Parses the rule string\n",
    "        \"\"\"\n",
    "        r = self.rule.upper().split(\"S\")\n",
    "        B = np.array([int(i) for i in r[0][1:] ]).astype(np.int64)\n",
    "        S = np.array([int(i) for i in r[1] ]).astype(np.int64)\n",
    "        return B, S\n",
    "\n",
    "    def neighbors(self):\n",
    "        \"\"\"\n",
    "        Returns the number of living neigbors of each cell.\n",
    "        \"\"\"\n",
    "        C = self.C\n",
    "        N = np.zeros(C.shape, dtype = np.int8) # Neighbors matrix\n",
    "        N[ :-1,  :  ]  += C[1:  , :  ] # Living cells south\n",
    "        N[ :  ,  :-1]  += C[ :  ,1:  ] # Living cells east\n",
    "        N[1:  ,  :  ]  += C[ :-1, :  ] # Living cells north\n",
    "        N[ :  , 1:  ]  += C[ :  , :-1] # Living cells west\n",
    "        N[ :-1,  :-1]  += C[1:  ,1:  ] # Living cells south east\n",
    "        N[1:  ,  :-1]  += C[ :-1,1:  ] # Living cells north east\n",
    "        N[1:  , 1:  ]  += C[ :-1, :-1] # Living cells north west\n",
    "        N[ :-1, 1:  ]  += C[1:  , :-1] # Living cells south west\n",
    "        return N\n",
    "\n",
    "    def iterate(self):\n",
    "        \"\"\"\n",
    "        Iterates one time.\n",
    "        \"\"\"\n",
    "        B, S = self.parse_rule()\n",
    "        N = self.neighbors()\n",
    "        C = self.C\n",
    "        C1 = np.zeros(C.shape, dtype = np.int8)\n",
    "        for b in B: C1 += ((C == False) & (N == b))\n",
    "        for s in S: C1 += (C & (N == s))\n",
    "        self.C[:] = C1 > 0"
   ]
  },
  {
   "cell_type": "code",
   "execution_count": null,
   "id": "5047a1b4",
   "metadata": {},
   "outputs": [],
   "source": [
    "# Initial Configuration\n",
    "N = 50\n",
    "t = np.linspace(0., 1., N+1)\n",
    "X, Y = np.meshgrid(t, t)\n",
    "f = 4\n",
    "C0 = np.sin(2. * np.pi * f * X ) * np.sin(2. * np.pi * 2 * f * Y )  > -.1\n",
    "\n",
    "# Original rule (B2S23 means birth if 2 living neighbours and survival if 2 or 3 living neighbours)\n",
    "g = LLCA(C0, rule = \"B2S23\")\n",
    "\n",
    "# Alternative rules\n",
    "# g = LLCA(C0, rule = \"B2S125\")\n",
    "# g = LLCA(C0, rule = \"B2S130\")\n",
    "# g = LLCA(C0, rule = \"B1S1305\")\n",
    "# g = LLCA(C0, rule = \"B3678S34678\")\n",
    "g = LLCA(C0, rule = \"B0123478S01234678\") # black/white reversal\n",
    "\n",
    "# Function to update the figure\n",
    "def updatefig(*args):\n",
    "    g.iterate()\n",
    "    im.set_array(g.C)\n",
    "    return im,\n",
    "\n",
    "fig, ax = plt.subplots(figsize=(6,6))\n",
    "ax.axis('on')\n",
    "im = plt.imshow(g.C, interpolation = \"nearest\", cmap = cm.binary, animated=True)\n",
    "anim = animation.FuncAnimation(fig, updatefig, frames=200, interval=50, blit=True)\n",
    "\n",
    "# plt.show()"
   ]
  },
  {
   "attachments": {},
   "cell_type": "markdown",
   "id": "f92bdc25",
   "metadata": {},
   "source": [
    "### Jupyter notebook --footer info-- (please always provide this at the end of each notebook)"
   ]
  },
  {
   "cell_type": "code",
   "execution_count": null,
   "id": "40b80a64",
   "metadata": {},
   "outputs": [],
   "source": [
    "import os\n",
    "import platform\n",
    "import socket\n",
    "from platform import python_version\n",
    "from datetime import datetime\n",
    "\n",
    "print('-----------------------------------')\n",
    "print(os.name.upper())\n",
    "print(platform.system(), '|', platform.release())\n",
    "print('Datetime:', datetime.now().strftime(\"%Y-%m-%d %H:%M:%S\"))\n",
    "print('Python Version:', python_version())\n",
    "print('-----------------------------------')"
   ]
  }
 ],
 "metadata": {
  "kernelspec": {
   "display_name": "Python 3 (ipykernel)",
   "language": "python",
   "name": "python3"
  },
  "language_info": {
   "codemirror_mode": {
    "name": "ipython",
    "version": 3
   },
   "file_extension": ".py",
   "mimetype": "text/x-python",
   "name": "python",
   "nbconvert_exporter": "python",
   "pygments_lexer": "ipython3",
   "version": "3.10.14"
  }
 },
 "nbformat": 4,
 "nbformat_minor": 5
}
