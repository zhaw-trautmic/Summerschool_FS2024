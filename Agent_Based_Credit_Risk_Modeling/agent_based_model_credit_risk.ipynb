{
 "cells": [
  {
   "attachments": {},
   "cell_type": "markdown",
   "metadata": {},
   "source": [
    "# Agent-based credit risk modeling"
   ]
  },
  {
   "attachments": {},
   "cell_type": "markdown",
   "metadata": {},
   "source": [
    "Summer School Bayonne July 2024<br>\n",
    "Author:      Dr. Mario Gellrich<br><br>\n",
    "Last update: 2024-07-01"
   ]
  },
  {
   "attachments": {},
   "cell_type": "markdown",
   "metadata": {},
   "source": [
    "## Model description"
   ]
  },
  {
   "attachments": {},
   "cell_type": "markdown",
   "metadata": {},
   "source": [
    "<p>The term 'credit risk' refers to the risk that a lender may not receive the owed principal and interest. The principal is the amount a consumer borrowed and have to pay back. Interest is what the lender charges for lending the money. The credit risk of a borrower can be measured by the five Cs (see: <a>https://www.openriskmanual.org/wiki/Five_Cs_Of_Credit_Analysis</a>): capacity, capital, character, colletaral, conditions. Based on this information a credit score can be calculated for every consumer. A credit score is one indicator that lenders use to asses how likely it is that a borrower is to default. To compensate for the credit risk, consumers with lower credit scores are usually charged higher interest rates on loans than consumers with higher credit scores.</p>\n",
    "\n",
    "<p>The agent-based model (ABM) provided in this Jupyter notebook is used to explore the role of different parameters like the number of agents and loan term on the credit risk. It contains a Lender class, a Borrower class and a CreditModel class. The model contains different time steps corresponding to the number of month in which the loan must be repayed (the loan term). The model also contains different borrower agents. Each borrower has a credit score ranging from 50 to 100. The interest rate depends on the credit risk score. If the credit risk score is high, the interest rate is low and vice versa.</p>\n",
    "    \n",
    "<p>At the beginning, each borrower asks for a random amount of money (the principle) between 50,000 and 500,000 USD. The model steps correspond to the number of months in which the loan must be repayed. At each model step, the borrower must repay the monthly loan. As in practise, the monthly payment remains the same throughout the loan term, but the allocation between principal and interest changes over time. At the beginning, a larger portion of the payment goes towards interest, while towards the end, a larger portion goes towards the principal. Sometimes a borrower cannot repay the monthly loan. If this happens, the borrower must repay the monthly rate owed in the next model step. If a borrower cannot repay the loan for three consecutive months, this borrower is removed from the model, and the remaining loan is considered as defaulted.</p>"
   ]
  },
  {
   "attachments": {},
   "cell_type": "markdown",
   "metadata": {},
   "source": [
    "## Libraries and settings"
   ]
  },
  {
   "cell_type": "code",
   "execution_count": null,
   "metadata": {},
   "outputs": [],
   "source": [
    "# Libraries\n",
    "import os\n",
    "import random\n",
    "import numpy as np\n",
    "import pandas as pd\n",
    "import matplotlib.pyplot as plt\n",
    "\n",
    "from mesa import Agent, Model\n",
    "from mesa.time import RandomActivation\n",
    "\n",
    "# Set random seed\n",
    "random.seed(42)\n",
    "\n",
    "# Ignore warnings\n",
    "import warnings\n",
    "warnings.filterwarnings('ignore')\n",
    "\n",
    "# Show current working directory\n",
    "print(os.getcwd())"
   ]
  },
  {
   "attachments": {},
   "cell_type": "markdown",
   "metadata": {},
   "source": [
    "## Example loan calculation\n",
    "\n",
    "See: https://www.calculator.net/loan-calculator.html"
   ]
  },
  {
   "cell_type": "code",
   "execution_count": null,
   "metadata": {},
   "outputs": [],
   "source": [
    "# Input\n",
    "# p = loan amount (principle)\n",
    "# r = monthly interest rate\n",
    "# y = number of years\n",
    "# n = total number of months\n",
    "\n",
    "p = 100000\n",
    "r = 0.05 / 12\n",
    "y = 30\n",
    "n = y*12\n",
    "\n",
    "# Monthly loan\n",
    "m = p * (r) * (1 + r)**n / ((1 + r)**n - 1)\n",
    "\n",
    "# Summary of results\n",
    "print(f\"Principle: {p:.0f} USD\")\n",
    "print(f\"Loan term: {y} years ({y*12} months)\")\n",
    "print(f\"Interest rate: {r*12*100:.2f} %\")\n",
    "print(f\"Monthly loan: {m:.2f} USD\")\n",
    "print(f\"Annually loan: {m*12:.2f} USD\")\n",
    "print(f\"Total interest over {y} years: {m*n - p:.2f} USD\")\n",
    "print(f\"Principle plus interest over {y} years: {m*n:.2f} USD\")"
   ]
  },
  {
   "attachments": {},
   "cell_type": "markdown",
   "metadata": {},
   "source": [
    "## Basic agent-based credit risk model"
   ]
  },
  {
   "attachments": {},
   "cell_type": "markdown",
   "metadata": {},
   "source": [
    "### Lender class"
   ]
  },
  {
   "cell_type": "code",
   "execution_count": null,
   "metadata": {},
   "outputs": [],
   "source": [
    "class Lender_(Agent):\n",
    "    def __init__(self, unique_id, model):\n",
    "        super().__init__(unique_id, model)\n",
    "\n",
    "    # Calculate interest rate depending on the borrowers credit score\n",
    "    def calculate_interest_rate(self, borrower):\n",
    "        interest_rate = 0.04 + ((100 - borrower.credit_score) * 0.0004)\n",
    "        \n",
    "        return interest_rate"
   ]
  },
  {
   "attachments": {},
   "cell_type": "markdown",
   "metadata": {},
   "source": [
    "### Borrower class"
   ]
  },
  {
   "cell_type": "code",
   "execution_count": null,
   "metadata": {},
   "outputs": [],
   "source": [
    "class Borrower_(Agent):\n",
    "    def __init__(self, unique_id, model):\n",
    "        super().__init__(unique_id, model)\n",
    "        self.credit_score = random.randint(50, 100)\n",
    "        self.loan_amount = 100\n",
    "        self.principle = self.loan_amount\n",
    "    \n",
    "    # Display balance\n",
    "    def display_balance(self):\n",
    "        print(f\"Borrower {self.unique_id + 1}: Balance at step 0: {self.loan_amount:.2f}.- USD\")\n",
    "\n",
    "    # Loan payments per step (in this example, only the interest is payed)\n",
    "    def step(self):\n",
    "        repayment_amount = self.principle * self.interest_rate\n",
    "        self.loan_amount -= repayment_amount"
   ]
  },
  {
   "attachments": {},
   "cell_type": "markdown",
   "metadata": {},
   "source": [
    "### CreditModel class"
   ]
  },
  {
   "cell_type": "code",
   "execution_count": null,
   "metadata": {},
   "outputs": [],
   "source": [
    "class CreditModel_(Model):\n",
    "    def __init__(self, num_borrowers):\n",
    "        self.num_agents = num_borrowers\n",
    "        self.schedule = RandomActivation(self)\n",
    "        self.step_number = 0\n",
    "\n",
    "        for i in range(self.num_agents):\n",
    "            a = Borrower_(i, self)\n",
    "            self.schedule.add(a)\n",
    "\n",
    "        # Instance of Lender class\n",
    "        self.lender = Lender_(0, self)\n",
    "\n",
    "        # Calculate and show interest rates of borrower agents\n",
    "        self.interest_rate()\n",
    "\n",
    "    def interest_rate(self):\n",
    "        borrowers = self.schedule.agents\n",
    "        for borrower in borrowers:\n",
    "            borrower.interest_rate = self.lender.calculate_interest_rate(borrower)\n",
    "            print(f\"Interest rate of Borrower {borrower.unique_id + 1}: {borrower.interest_rate:.2%}\")\n",
    "\n",
    "    def step(self):\n",
    "        self.step_number += 1\n",
    "        self.schedule.step()\n"
   ]
  },
  {
   "attachments": {},
   "cell_type": "markdown",
   "metadata": {},
   "source": [
    "### Calling the Borrower, Lender and CreditModel classes"
   ]
  },
  {
   "cell_type": "code",
   "execution_count": null,
   "metadata": {},
   "outputs": [],
   "source": [
    "# Create a model with three agents\n",
    "print(\"Interest rates of borrowers:\")\n",
    "model = CreditModel_(3)\n",
    "\n",
    "# Print initial balance of agents\n",
    "print(\"\\nBalance of borrowers:\")\n",
    "for agent in model.schedule.agents:\n",
    "    agent.display_balance()\n",
    "\n",
    "# Run the model for 5 steps\n",
    "for i in range(5):\n",
    "    model.step()\n",
    "\n",
    "    # Print the balance of each agent\n",
    "    for agent in model.schedule.agents:\n",
    "        print(f\"Borrower {agent.unique_id + 1}: Balance at step {model.step_number}: {agent.loan_amount:.2f}.- USD\")\n"
   ]
  },
  {
   "attachments": {},
   "cell_type": "markdown",
   "metadata": {},
   "source": [
    "## Extended agent-based credit risk model"
   ]
  },
  {
   "attachments": {},
   "cell_type": "markdown",
   "metadata": {},
   "source": [
    "### Lender class"
   ]
  },
  {
   "cell_type": "code",
   "execution_count": null,
   "metadata": {},
   "outputs": [],
   "source": [
    "class Lender(Agent):\n",
    "    def __init__(self, unique_id, model):\n",
    "        super().__init__(unique_id, model)\n",
    "\n",
    "    # Calculate interest rate\n",
    "    def calculate_interest_rate(self, credit_score):\n",
    "        interest_rate = 0.04 + ((100 - credit_score) * 0.0004)\n",
    "        \n",
    "        return interest_rate\n",
    "\n",
    "# Example call of the Lender class\n",
    "l1 = Lender(1,1)\n",
    "l1.calculate_interest_rate(85)"
   ]
  },
  {
   "attachments": {},
   "cell_type": "markdown",
   "metadata": {},
   "source": [
    "### Borrower class"
   ]
  },
  {
   "cell_type": "code",
   "execution_count": null,
   "metadata": {},
   "outputs": [],
   "source": [
    "class Borrower(Agent):\n",
    "    def __init__(self, unique_id, model, num_months, prob):\n",
    "        super().__init__(unique_id, model)\n",
    "        self.loan_amount = random.choice(list(range(50000, 500000, 5000)))\n",
    "        self.num_months = num_months\n",
    "        self.credit_score = random.randint(50, 100)\n",
    "        self.monthly_loan = self.calculate_loan_amount()[0]\n",
    "        self.balance = self.calculate_loan_amount()[1]\n",
    "        self.payed_off = False\n",
    "        self.time_to_repay = self.num_months\n",
    "        self.defaulted = []\n",
    "        self.removed = 0\n",
    "        self.prob = self.probability_of_payment(prob)\n",
    "    \n",
    "    # Method to calculate the loan amount\n",
    "    def calculate_loan_amount(self):\n",
    "        lender = Lender(1,1)\n",
    "        credit_score = self.credit_score\n",
    "        # Here, the interest rate is calculated using the Lender class\n",
    "        interest_rate = lender.calculate_interest_rate(credit_score)\n",
    "        r = interest_rate / 12\n",
    "        numerator = self.loan_amount * r * (1 + r)**self.num_months\n",
    "        denominator = (1 + r)**self.num_months - 1\n",
    "        monthly_loan = numerator / denominator\n",
    "        total_loan = monthly_loan * self.num_months\n",
    "        return [monthly_loan, total_loan, interest_rate, r]\n",
    "    \n",
    "    # List to integrate a probability of monthly payments\n",
    "    def probability_of_payment(self, p=0.10, length=20):\n",
    "        result = []\n",
    "        num_zeros = int(p * length)\n",
    "        result.extend([0] * num_zeros)\n",
    "        result.extend([1] * (length - num_zeros))\n",
    "        random.shuffle(result)\n",
    "        return result\n",
    "    \n",
    "    # Method which defines the agents payments per step\n",
    "    def step(self):\n",
    "        # Make a payment or not (X% probability of 'no payment')\n",
    "        payment = random.choice(self.prob)\n",
    "        \n",
    "        # If monthly loan is payed  ...\n",
    "        if payment == 1:\n",
    "\n",
    "            # Check whether the last payment has been made\n",
    "            if sum(self.defaulted) == 0:\n",
    "                self.monthly_loan = self.calculate_loan_amount()[0]\n",
    "                self.defaulted = []\n",
    "                self.balance -= self.monthly_loan\n",
    "                self.payed_off = True\n",
    "                self.time_to_repay -= 1\n",
    "\n",
    "            # Check whether the last payment has been made and (if not) increase the monthly loan\n",
    "            elif sum(self.defaulted) == 1:\n",
    "                self.monthly_loan = self.calculate_loan_amount()[0] * 2\n",
    "                self.defaulted = []\n",
    "                self.balance -= self.monthly_loan\n",
    "                self.payed_off = True\n",
    "                self.time_to_repay -= 1\n",
    "\n",
    "            # Check whether the last two payments has been made and (if not) increase the monthly loan\n",
    "            elif sum(self.defaulted) == 2:\n",
    "                self.monthly_loan = self.calculate_loan_amount()[0] * 3\n",
    "                self.defaulted = []\n",
    "                self.balance -= self.monthly_loan\n",
    "                self.payed_off = True\n",
    "                self.time_to_repay -= 1\n",
    "\n",
    "            else:\n",
    "                pass\n",
    "\n",
    "        # If monthly loan is not payed ...\n",
    "        else:\n",
    "            # Increase the 'defaulted' counter\n",
    "            self.defaulted.append(1)\n",
    "\n",
    "            # Update balance, payed_off flag and time_to_repay\n",
    "            if sum(self.defaulted) < 3:\n",
    "                self.payed_off = False\n",
    "                self.time_to_repay -= 1\n",
    "            \n",
    "            # Remove the agent from the model\n",
    "            elif sum(self.defaulted) >= 3:\n",
    "                self.model.remove_agent(self)\n",
    "                self.removed = 1\n",
    "            \n",
    "            else:\n",
    "                pass\n",
    "\n",
    "# Example call of the Borrower class\n",
    "b1 = Borrower(unique_id=1, model=1, num_months=3, prob=0.10)\n",
    "b1.calculate_loan_amount()\n"
   ]
  },
  {
   "attachments": {},
   "cell_type": "markdown",
   "metadata": {},
   "source": [
    "### CreditModel class"
   ]
  },
  {
   "cell_type": "code",
   "execution_count": null,
   "metadata": {},
   "outputs": [],
   "source": [
    "class CreditModel(Model):\n",
    "\n",
    "    # Method to initialize the class instance (= constructor)\n",
    "    def __init__(self, num_borrowers, num_months, prob):\n",
    "        self.num_borrowers = num_borrowers\n",
    "        self.num_months = num_months\n",
    "        self.schedule = RandomActivation(self)\n",
    "        self.step_number = 0\n",
    "        self.prob = prob\n",
    "        \n",
    "        # Create agents with unique IDs\n",
    "        for i in range(self.num_borrowers):\n",
    "            borrower = Borrower(i, self, num_months, prob)\n",
    "            self.schedule.add(borrower)\n",
    "\n",
    "        # Create an empty data frame to store results\n",
    "        self.results_df = pd.DataFrame(columns=['Borrower', \n",
    "                                                'Step', \n",
    "                                                'Principle', \n",
    "                                                'Credit_Score', \n",
    "                                                'Interest_Rate', \n",
    "                                                'Balance', \n",
    "                                                'Payed_Off'])\n",
    "\n",
    "        # Store the initial state in the data frame\n",
    "        for agent in self.schedule.agents:\n",
    "            new_row = {'Borrower': agent.unique_id,\n",
    "                       'Step': self.step_number,\n",
    "                       'Principle': agent.loan_amount,\n",
    "                       'Credit_Score': agent.credit_score,\n",
    "                       'Interest_Rate': agent.calculate_loan_amount()[2],\n",
    "                       'Balance': round(agent.balance, 2),\n",
    "                       'Payed_Off': agent.payed_off}\n",
    "            self.results_df = pd.concat([self.results_df, \n",
    "                                         pd.DataFrame(new_row, index=[0])], \n",
    "                                        ignore_index=True)\n",
    "            \n",
    "    # Schedule agents\n",
    "    def step(self):\n",
    "        self.step_number += 1\n",
    "        self.schedule.step()\n",
    "\n",
    "        # Store the model results in a data frame\n",
    "        for agent in self.schedule.agents:\n",
    "            new_row = {'Borrower': agent.unique_id,\n",
    "                       'Step': self.step_number,\n",
    "                       'Principle': agent.loan_amount,\n",
    "                       'Credit_Score': agent.credit_score,\n",
    "                       'Interest_Rate': agent.calculate_loan_amount()[2],\n",
    "                       'Balance': round(agent.balance, 2),\n",
    "                       'Payed_Off': agent.payed_off}\n",
    "            self.results_df = pd.concat([self.results_df, \n",
    "                                         pd.DataFrame(new_row, index=[0])], \n",
    "                                        ignore_index=True)\n",
    "\n",
    "    # Method to remove agents\n",
    "    def remove_agent(self, agent):\n",
    "        self.schedule.remove(agent)\n",
    "\n",
    "# Example call of the CreditModel class\n",
    "cm1 = CreditModel(num_borrowers = 2, num_months = 3, prob = 0.05)\n",
    "for i in range(3):\n",
    "    cm1.step()\n",
    "cm1.results_df\n"
   ]
  },
  {
   "attachments": {},
   "cell_type": "markdown",
   "metadata": {},
   "source": [
    "### Model parameter settings"
   ]
  },
  {
   "cell_type": "code",
   "execution_count": null,
   "metadata": {},
   "outputs": [],
   "source": [
    "# Model parameters\n",
    "# num_borrowers:   number of borrower agents in the model\n",
    "# num_months:      credit period in months\n",
    "# prob_defaulted:  probablity that a borrower cannot repay the monthly loan\n",
    "\n",
    "num_borrowers = 25\n",
    "num_months = 360\n",
    "prob_defaulted = 0.10"
   ]
  },
  {
   "attachments": {},
   "cell_type": "markdown",
   "metadata": {},
   "source": [
    "### Model run"
   ]
  },
  {
   "cell_type": "code",
   "execution_count": null,
   "metadata": {},
   "outputs": [],
   "source": [
    "# Model\n",
    "model = CreditModel(num_borrowers=num_borrowers, \n",
    "                    num_months=num_months, \n",
    "                    prob=prob_defaulted)\n",
    "\n",
    "# Run the model for multiple timesteps\n",
    "for i in range(num_months):\n",
    "    model.step()"
   ]
  },
  {
   "attachments": {},
   "cell_type": "markdown",
   "metadata": {},
   "source": [
    "### Analysis of model results"
   ]
  },
  {
   "attachments": {},
   "cell_type": "markdown",
   "metadata": {},
   "source": [
    "#### Data frame with model results per step"
   ]
  },
  {
   "cell_type": "code",
   "execution_count": null,
   "metadata": {},
   "outputs": [],
   "source": [
    "df = model.results_df\n",
    "df"
   ]
  },
  {
   "attachments": {},
   "cell_type": "markdown",
   "metadata": {},
   "source": [
    "#### Line charts with model results per step"
   ]
  },
  {
   "cell_type": "code",
   "execution_count": null,
   "metadata": {},
   "outputs": [],
   "source": [
    "# Pivot tables with balances and borrowers\n",
    "tab_balance = pd.pivot_table(df[['Step', 'Balance']],\n",
    "                            index=['Step'],\n",
    "                            values=['Balance'],\n",
    "                            aggfunc=np.sum)\n",
    "\n",
    "tab_borrowers = pd.pivot_table(df[['Step', 'Borrower']],\n",
    "                                index=['Step'],\n",
    "                                values=['Borrower'],\n",
    "                                aggfunc='count')\n",
    "\n",
    "# Line chart (balances)\n",
    "tab_balance_sorted = tab_balance.sort_index(ascending=False)\n",
    "fig, ax = plt.subplots(1, 2, figsize=(14, 4), sharex=True, sharey=False)\n",
    "ax[0].plot(tab_balance.index, tab_balance_sorted['Balance'], label=\"Repaid\", color=\"orange\")\n",
    "ax[0].set_xlim(1, num_months)\n",
    "ax[0].set_xlabel('Number of months')\n",
    "ax[0].set_ylabel('Loan repayd (USD)')\n",
    "ax[0].set_title('Total loan repayed')\n",
    "ax[0].ticklabel_format(useOffset=False, style='plain')\n",
    "ax[0].grid()\n",
    "\n",
    "# Line chart (borrowers)\n",
    "tab_borrowers_sorted = tab_borrowers.sort_index(ascending=False)\n",
    "ax[1].plot(tab_borrowers.index, tab_borrowers['Borrower'], label=\"Repaid\", color=\"green\")\n",
    "ax[1].set_xlim(1, num_months)\n",
    "ax[1].set_ylim(1, num_borrowers + 1)\n",
    "ax[1].set_xlabel('Number of months')\n",
    "ax[1].set_ylabel('Number of borrowers')\n",
    "ax[1].set_title('Number of borrowers who have repayed their loan')\n",
    "ax[1].ticklabel_format(useOffset=False, style='plain')\n",
    "ax[1].grid()\n",
    "\n",
    "# Set the spacing between subplots\n",
    "plt.subplots_adjust(left=0.1,\n",
    "                    bottom=0.1, \n",
    "                    right=0.9, \n",
    "                    top=0.9, \n",
    "                    wspace=0.2, \n",
    "                    hspace=0.2)\n",
    "\n",
    "# Show plot\n",
    "plt.show()"
   ]
  },
  {
   "attachments": {},
   "cell_type": "markdown",
   "metadata": {},
   "source": [
    "### Run multiple simulation models based on different model parameter settings"
   ]
  },
  {
   "attachments": {},
   "cell_type": "markdown",
   "metadata": {},
   "source": [
    "#### Function to run multiple simulation models and store the results"
   ]
  },
  {
   "cell_type": "code",
   "execution_count": null,
   "metadata": {},
   "outputs": [],
   "source": [
    "def simulation_models(num_borrowers, num_months, prob_defaulted):\n",
    "\n",
    "    # Model\n",
    "    model = CreditModel(num_borrowers=num_borrowers, \n",
    "                        num_months=num_months, \n",
    "                        prob=prob_defaulted)\n",
    "\n",
    "    # Run the model for multiple timesteps\n",
    "    for i in range(num_months):\n",
    "        model.step()\n",
    "\n",
    "    # Output\n",
    "    df = model.results_df\n",
    "\n",
    "    # Loan\n",
    "    loan_amount = df.loc[df['Step'] == 0]['Principle'].sum()\n",
    "    loan_plus_interest = df.loc[df['Step'] == 0]['Balance'].sum()\n",
    "\n",
    "    # Mean credit score\n",
    "    mean_credit_score = df.loc[df['Step'] == 0]['Credit_Score'].mean()\n",
    "\n",
    "    # Mean interest rate\n",
    "    mean_interest_rate = df.loc[df['Step'] == 0]['Interest_Rate'].mean()\n",
    "\n",
    "    # Mean loan amount\n",
    "    mean_loan_amount = df.loc[df['Step'] == 0]['Principle'].mean()\n",
    "\n",
    "    # Defaulted loan\n",
    "    defaulted_list = []\n",
    "    idx = list(set(df['Borrower']))\n",
    "\n",
    "    for i in idx:\n",
    "        defaulted_list.append(df.loc[(df['Borrower'] == i)]['Balance'].iloc[-1])\n",
    "\n",
    "    defaulted_loan_abs = sum(defaulted_list)\n",
    "    defaulted_loan_rel = sum(defaulted_list) / loan_plus_interest\n",
    "\n",
    "    # Defaulted borrowers\n",
    "    defaulted_borrowers = tab_borrowers['Borrower'].iloc[0] - tab_borrowers['Borrower'].iloc[-1]\n",
    "\n",
    "    # Profit (for simplification, the costs of investments are ignored here)\n",
    "    profit_abs = (loan_plus_interest - defaulted_loan_abs) - loan_amount\n",
    "    profit_rel = (profit_abs / loan_amount)\n",
    "\n",
    "    # Return on investment (ROI)\n",
    "    roi = profit_rel / (num_months / 12)\n",
    "\n",
    "    # Save results as data frame\n",
    "    df_exp = pd.DataFrame({ 'Borrowers': num_borrowers,\n",
    "                            'Months': num_months,\n",
    "                            'Mean_Credit_Score': int(mean_credit_score),\n",
    "                            'Mean_Interest_Rate': mean_interest_rate,\n",
    "                            'Mean_Loan_Amount': int(mean_loan_amount),\n",
    "                            'Total_Loan_Amount': int(loan_amount),\n",
    "                            'Total_Loan_Amount_plus_Interest': int(loan_plus_interest),\n",
    "                            'Borrowers_Defaulted': defaulted_borrowers,\n",
    "                            'Defaulted_Loan': defaulted_loan_rel, \n",
    "                            'ROI': roi}, index=[0])\n",
    "\n",
    "    return df_exp"
   ]
  },
  {
   "attachments": {},
   "cell_type": "markdown",
   "metadata": {},
   "source": [
    "#### Run multiple simulations"
   ]
  },
  {
   "cell_type": "code",
   "execution_count": null,
   "metadata": {},
   "outputs": [],
   "source": [
    "# Initialize df_sim as an empty data frame\n",
    "df_sim = pd.DataFrame()\n",
    "\n",
    "# List with the number of months for simulation\n",
    "param_month = [num * 36 for num in range(1, 10 + 1)]\n",
    "print(\"Number of months in the simulation:\", param_month)\n",
    "\n",
    "# Loop\n",
    "for i in param_month:\n",
    "    df_res = simulation_models(num_borrowers=25, \n",
    "                               num_months=i,\n",
    "                               prob_defaulted=0.10)\n",
    "    \n",
    "    df_sim = pd.concat([df_sim, df_res.reindex(df_res.index)], axis=0)\n",
    "\n",
    "# Result\n",
    "df_sim"
   ]
  },
  {
   "attachments": {},
   "cell_type": "markdown",
   "metadata": {},
   "source": [
    "#### Defaulted loan versus credit period in months"
   ]
  },
  {
   "cell_type": "code",
   "execution_count": null,
   "metadata": {},
   "outputs": [],
   "source": [
    "# Bar chart\n",
    "fig, ax = plt.subplots(figsize=(6,4))\n",
    "ax.bar(df_sim['Months'],\n",
    "       df_sim['Defaulted_Loan']*100, \n",
    "       align='center',\n",
    "       color='steelblue', \n",
    "       alpha=0.8,\n",
    "       width=20)\n",
    "ax.set_title('Defaulted loan versus number of months')\n",
    "ax.set_xlabel('loan term in months')\n",
    "ax.set_ylabel('defaulted loan (%)')\n",
    "ax.set_xticks(df_sim['Months'])\n",
    "ax.set_xticklabels(df_sim['Months']) \n",
    "ax.grid()\n",
    "\n",
    "# Show graph\n",
    "plt.show()"
   ]
  },
  {
   "attachments": {},
   "cell_type": "markdown",
   "metadata": {},
   "source": [
    "#### ROI versus defaulted loan"
   ]
  },
  {
   "cell_type": "code",
   "execution_count": null,
   "metadata": {},
   "outputs": [],
   "source": [
    "# Scatter plot\n",
    "x = df_sim['Defaulted_Loan']*100\n",
    "y = df_sim['ROI']*100\n",
    "\n",
    "# Fit a function\n",
    "fit = np.polyfit(x, y, 2)\n",
    "p = np.poly1d(fit)\n",
    "\n",
    "# Scatterplot\n",
    "plt.scatter(x, y, color='steelblue', alpha=0.8)\n",
    "\n",
    "# Create x values for the polynomial fit line\n",
    "x_fit = np.linspace(x.min(), x.max(), 100)\n",
    "\n",
    "# Create line showing the polynomial fit\n",
    "plt.plot(x_fit, p(x_fit), 'r')\n",
    "\n",
    "# Adding labels and title\n",
    "plt.title('ROI versus defaulted loan')\n",
    "plt.xlabel('defaulted loan (%)')\n",
    "plt.ylabel('ROI (%)')\n",
    "plt.grid()\n",
    "\n",
    "# Displaying the scatter plot\n",
    "plt.show()"
   ]
  },
  {
   "attachments": {},
   "cell_type": "markdown",
   "metadata": {},
   "source": [
    "### Jupyter notebook --footer info-- (please always provide this at the end of each notebook)"
   ]
  },
  {
   "cell_type": "code",
   "execution_count": null,
   "metadata": {},
   "outputs": [],
   "source": [
    "import os\n",
    "import platform\n",
    "import socket\n",
    "from platform import python_version\n",
    "from datetime import datetime\n",
    "\n",
    "print('-----------------------------------')\n",
    "print(os.name.upper())\n",
    "print(platform.system(), '|', platform.release())\n",
    "print('Datetime:', datetime.now().strftime(\"%Y-%m-%d %H:%M:%S\"))\n",
    "print('Python Version:', python_version())\n",
    "print('-----------------------------------')"
   ]
  }
 ],
 "metadata": {
  "kernelspec": {
   "display_name": "Python 3 (ipykernel)",
   "language": "python",
   "name": "python3"
  },
  "language_info": {
   "codemirror_mode": {
    "name": "ipython",
    "version": 3
   },
   "file_extension": ".py",
   "mimetype": "text/x-python",
   "name": "python",
   "nbconvert_exporter": "python",
   "pygments_lexer": "ipython3",
   "version": "3.10.14"
  }
 },
 "nbformat": 4,
 "nbformat_minor": 2
}
