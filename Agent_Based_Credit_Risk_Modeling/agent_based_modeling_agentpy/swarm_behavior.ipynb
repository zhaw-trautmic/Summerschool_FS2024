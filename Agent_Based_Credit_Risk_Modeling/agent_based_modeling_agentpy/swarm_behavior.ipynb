{
 "cells": [
  {
   "attachments": {},
   "cell_type": "markdown",
   "id": "4a63fee1",
   "metadata": {},
   "source": [
    "# Boids Flocking Model: Simulation of Swarm Behavior"
   ]
  },
  {
   "attachments": {},
   "cell_type": "markdown",
   "id": "9d4c1832",
   "metadata": {},
   "source": [
    "## Libraries and settings"
   ]
  },
  {
   "cell_type": "code",
   "execution_count": 1,
   "id": "5b9acd55",
   "metadata": {},
   "outputs": [
    {
     "name": "stdout",
     "output_type": "stream",
     "text": [
      "u:\\Lektionen\\Summerschool_FS2023\\Agent_Based_Credit_Risk_Modeling\\agent_based_modeling_agentpy\n"
     ]
    }
   ],
   "source": [
    "# Requirements:\n",
    "# This example requires the 'agentpy' library\n",
    "\n",
    "# Libraries\n",
    "import os\n",
    "import IPython\n",
    "import numpy as np\n",
    "import agentpy as ap\n",
    "import matplotlib.pyplot as plt\n",
    "\n",
    "# Background color of matplotlib graphics \n",
    "plt.rcParams['axes.facecolor'] = 'black'\n",
    "\n",
    "# Ignore warnings\n",
    "import warnings\n",
    "warnings.filterwarnings('ignore')\n",
    "\n",
    "# Show current working directory\n",
    "print(os.getcwd())"
   ]
  },
  {
   "attachments": {},
   "cell_type": "markdown",
   "id": "53246975",
   "metadata": {},
   "source": [
    "## Classes and functions"
   ]
  },
  {
   "cell_type": "code",
   "execution_count": null,
   "id": "35bdf4f9",
   "metadata": {},
   "outputs": [],
   "source": [
    "class Boid(ap.Agent):\n",
    "    \"\"\" An agent with a position and velocity in a continuous space,\n",
    "    who follows Craig Reynolds three rules of flocking behavior;\n",
    "    plus a fourth rule to avoid the edges of the simulation space. \"\"\"\n",
    "\n",
    "    def setup(self):\n",
    "\n",
    "        self.velocity = normalize(\n",
    "            self.model.nprandom.random(self.p.ndim) - 0.5)\n",
    "\n",
    "    def setup_pos(self, space):\n",
    "\n",
    "        self.space = space\n",
    "        self.neighbors = space.neighbors\n",
    "        self.pos = space.positions[self]\n",
    "\n",
    "    def update_velocity(self):\n",
    "\n",
    "        pos = self.pos\n",
    "        ndim = self.p.ndim\n",
    "\n",
    "        # Rule 1 - Cohesion\n",
    "        nbs = self.neighbors(self, distance=self.p.outer_radius)\n",
    "        nbs_len = len(nbs)\n",
    "        nbs_pos_array = np.array(nbs.pos)\n",
    "        nbs_vec_array = np.array(nbs.velocity)\n",
    "        if nbs_len > 0:\n",
    "            center = np.sum(nbs_pos_array, 0) / nbs_len\n",
    "            v1 = (center - pos) * self.p.cohesion_strength\n",
    "        else:\n",
    "            v1 = np.zeros(ndim)\n",
    "\n",
    "        # Rule 2 - Seperation\n",
    "        v2 = np.zeros(ndim)\n",
    "        for nb in self.neighbors(self, distance=self.p.inner_radius):\n",
    "            v2 -= nb.pos - pos\n",
    "        v2 *= self.p.seperation_strength\n",
    "\n",
    "        # Rule 3 - Alignment\n",
    "        if nbs_len > 0:\n",
    "            average_v = np.sum(nbs_vec_array, 0) / nbs_len\n",
    "            v3 = (average_v - self.velocity) * self.p.alignment_strength\n",
    "        else:\n",
    "            v3 = np.zeros(ndim)\n",
    "\n",
    "        # Rule 4 - Borders\n",
    "        v4 = np.zeros(ndim)\n",
    "        d = self.p.border_distance\n",
    "        s = self.p.border_strength\n",
    "        for i in range(ndim):\n",
    "            if pos[i] < d:\n",
    "                v4[i] += s\n",
    "            elif pos[i] > self.space.shape[i] - d:\n",
    "                v4[i] -= s\n",
    "\n",
    "        # Update velocity\n",
    "        self.velocity += v1 + v2 + v3 + v4\n",
    "        self.velocity = normalize(self.velocity)\n",
    "\n",
    "    def update_position(self):\n",
    "\n",
    "        self.space.move_by(self, self.velocity)\n",
    "\n",
    "\n",
    "class BoidsModel(ap.Model):\n",
    "    \"\"\"\n",
    "    An agent-based model of animals' flocking behavior,\n",
    "    based on Craig Reynolds' Boids Model [1]\n",
    "    and Conrad Parkers' Boids Pseudocode [2].\n",
    "\n",
    "    [1] http://www.red3d.com/cwr/boids/\n",
    "    [2] http://www.vergenet.net/~conrad/boids/pseudocode.html\n",
    "    \"\"\"\n",
    "\n",
    "    def setup(self):\n",
    "        \"\"\" Initializes the agents and network of the model. \"\"\"\n",
    "\n",
    "        self.space = ap.Space(self, shape=[self.p.size]*self.p.ndim)\n",
    "        self.agents = ap.AgentList(self, self.p.population, Boid)\n",
    "        self.space.add_agents(self.agents, random=True)\n",
    "        self.agents.setup_pos(self.space)\n",
    "\n",
    "    def step(self):\n",
    "        \"\"\" Defines the models' events per simulation step. \"\"\"\n",
    "\n",
    "        self.agents.update_velocity()  # Adjust direction\n",
    "        self.agents.update_position()  # Move into new direction\n",
    "\n",
    "\n",
    "def normalize(v):\n",
    "    \"\"\" Normalize a vector to length 1. \"\"\"\n",
    "    norm = np.linalg.norm(v)\n",
    "    if norm == 0:\n",
    "        return v\n",
    "    return v / norm"
   ]
  },
  {
   "attachments": {},
   "cell_type": "markdown",
   "id": "c1a305dc",
   "metadata": {},
   "source": [
    "## Animations functions"
   ]
  },
  {
   "cell_type": "code",
   "execution_count": null,
   "id": "91bd797f",
   "metadata": {},
   "outputs": [],
   "source": [
    "def animation_plot_single(m, ax):\n",
    "    ndim = m.p.ndim\n",
    "    ax.set_title(f\"Boids Flocking Model {ndim}D (t={m.t})\")\n",
    "    pos = m.space.positions.values()\n",
    "    pos = np.array(list(pos)).T  # Transform\n",
    "    ax.scatter(*pos, s=2, c='greenyellow')\n",
    "    ax.set_xlim(0, m.p.size)\n",
    "    ax.set_ylim(0, m.p.size)\n",
    "    \n",
    "    if ndim == 3:\n",
    "        ax.set_zlim(0, m.p.size)\n",
    "    ax.set_axis_off()\n",
    "\n",
    "def animation_plot(m, p):\n",
    "    projection = '3d' if p['ndim'] == 3 else None\n",
    "    fig = plt.figure(figsize=(7,7))\n",
    "    ax = fig.add_subplot(111, projection=projection)\n",
    "    animation = ap.animate(m(p), fig, ax, animation_plot_single)\n",
    "\n",
    "    return IPython.display.HTML(animation.to_jshtml(fps=20))"
   ]
  },
  {
   "attachments": {},
   "cell_type": "markdown",
   "id": "71409362",
   "metadata": {},
   "source": [
    "## Parameter settings for 3D simulation"
   ]
  },
  {
   "cell_type": "code",
   "execution_count": null,
   "id": "1c8ceb1b",
   "metadata": {},
   "outputs": [],
   "source": [
    "parameters3D = {\n",
    "    'size': 50,\n",
    "    'seed': 123,\n",
    "    'steps': 200,\n",
    "    'ndim': 3,\n",
    "    'population': 1000,\n",
    "    'inner_radius': 3,\n",
    "    'outer_radius': 10,\n",
    "    'border_distance': 10,\n",
    "    'cohesion_strength': 0.005,\n",
    "    'seperation_strength': 0.1,\n",
    "    'alignment_strength': 0.3,\n",
    "    'border_strength': 0.5,\n",
    "    'wall_avoidance_distance': 5,\n",
    "    'wall_avoidance_strength': 0.3\n",
    "}"
   ]
  },
  {
   "attachments": {},
   "cell_type": "markdown",
   "id": "2a5ff079",
   "metadata": {},
   "source": [
    "## Creating the simulation"
   ]
  },
  {
   "cell_type": "code",
   "execution_count": null,
   "id": "f5172959",
   "metadata": {},
   "outputs": [],
   "source": [
    "# Wait some seconds until the animation plot is ready for replay\n",
    "animation_plot(BoidsModel, parameters3D)"
   ]
  },
  {
   "attachments": {},
   "cell_type": "markdown",
   "id": "b3ff0e78",
   "metadata": {},
   "source": [
    "### Jupyter notebook --footer info-- (please always provide this at the end of each notebook)"
   ]
  },
  {
   "cell_type": "code",
   "execution_count": null,
   "id": "9695406b",
   "metadata": {},
   "outputs": [],
   "source": [
    "import os\n",
    "import platform\n",
    "import socket\n",
    "from platform import python_version\n",
    "from datetime import datetime\n",
    "\n",
    "print('-----------------------------------')\n",
    "print(os.name.upper())\n",
    "print(platform.system(), '|', platform.release())\n",
    "print('Datetime:', datetime.now().strftime(\"%Y-%m-%d %H:%M:%S\"))\n",
    "print('Python Version:', python_version())\n",
    "print('-----------------------------------')"
   ]
  }
 ],
 "metadata": {
  "kernelspec": {
   "display_name": "Python 3 (ipykernel)",
   "language": "python",
   "name": "python3"
  },
  "language_info": {
   "codemirror_mode": {
    "name": "ipython",
    "version": 3
   },
   "file_extension": ".py",
   "mimetype": "text/x-python",
   "name": "python",
   "nbconvert_exporter": "python",
   "pygments_lexer": "ipython3",
   "version": "3.10.11"
  }
 },
 "nbformat": 4,
 "nbformat_minor": 5
}
