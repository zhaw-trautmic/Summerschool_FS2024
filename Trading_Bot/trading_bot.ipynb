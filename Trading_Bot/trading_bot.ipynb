{
 "cells": [
  {
   "attachments": {},
   "cell_type": "markdown",
   "metadata": {},
   "source": [
    "# Programming a trading bot with Python and the Coinbase Web API "
   ]
  },
  {
   "attachments": {},
   "cell_type": "markdown",
   "metadata": {},
   "source": [
    "<b>Summerschool Bayonne 2024</b><br><br>\n",
    "<b>Author:</b> Dr. Mario Gellrich<br>\n",
    "<b>Last update:</b> 2024-07-01<br><br>\n",
    "<font><b>Please note that this trading bot is experimental and for teaching purposes only!</b></font><br><br>\n",
    "\n",
    "<b>Prerequisites:</b><br> \n",
    "- Account on Coinbase: https://www.coinbase.com<br>\n",
    "  Menu -> Individuals -> Buy and sell -> register<br><br>\n",
    "- Access to Coinbase Pro's public sandbox: https://public.sandbox.exchange.coinbase.com<br>\n",
    "  Note that the login sessions and API keys of the sandbox are separate from production.<br><br>\n",
    "\n",
    "<b>Further reading:</b><br>\n",
    "- https://github.com/polakowo/vectorbt<br>\n",
    "- https://blog.devgenius.io/algorithmic-trading-backtesting-a-strategy-in-python-3a136be16ece"
   ]
  },
  {
   "attachments": {},
   "cell_type": "markdown",
   "metadata": {},
   "source": [
    "## Libraries and settings"
   ]
  },
  {
   "cell_type": "code",
   "execution_count": null,
   "metadata": {},
   "outputs": [],
   "source": [
    "# Libraries\n",
    "import os\n",
    "import ta\n",
    "import time\n",
    "import json\n",
    "import numpy as np\n",
    "import pandas as pd\n",
    "import vectorbt as vbt\n",
    "from pathlib import Path\n",
    "import coinbasepro as cbp\n",
    "from datetime import datetime\n",
    "import matplotlib.pyplot as plt\n",
    "\n",
    "# Settings\n",
    "import warnings\n",
    "warnings.filterwarnings(\"ignore\")\n",
    "\n",
    "# Current working directory\n",
    "print(f'Current working directory: {os.getcwd()}')"
   ]
  },
  {
   "attachments": {},
   "cell_type": "markdown",
   "metadata": {},
   "source": [
    "## Authentication on Coinbase Pro public sandbox environment"
   ]
  },
  {
   "cell_type": "code",
   "execution_count": null,
   "metadata": {},
   "outputs": [],
   "source": [
    "# Public client\n",
    "client = cbp.PublicClient()\n",
    "\n",
    "# Sandbox api keys and url\n",
    "credentials = json.loads(Path('credentials.json').read_text())['sandbox']\n",
    "API_KEY = credentials.get('api_key')\n",
    "API_PASS = credentials.get('passphrase')\n",
    "API_SECRET = credentials.get('secret')\n",
    "api_url = 'https://api-public.sandbox.pro.coinbase.com'\n",
    "\n",
    "# Authenticated client\n",
    "auth_client = cbp.AuthenticatedClient(key=API_KEY,\n",
    "                                      secret=API_SECRET,\n",
    "                                      passphrase=API_PASS,\n",
    "                                      api_url=api_url)\n",
    "\n",
    "# Show account details\n",
    "def balance():\n",
    "    balance_list = []\n",
    "    for i in auth_client.get_accounts():\n",
    "        balance_list.append(i.get('currency'))\n",
    "        balance_list.append(i.get('balance'))\n",
    "    balance_list\n",
    "\n",
    "    # Split the data into pairs of (currency, value)\n",
    "    pairs = [(balance_list[i], balance_list[i+1]) for i in range(0, len(balance_list), 2)]\n",
    "\n",
    "    # Create a data frame\n",
    "    df_balance = pd.DataFrame(pairs, columns=['Currency', 'Value'])\n",
    "    df_balance['Value'] = df_balance['Value'].astype('int')\n",
    "\n",
    "    # Print currencies with values > 0\n",
    "    return df_balance.loc[df_balance['Value'] > 0]\n",
    "\n",
    "# Funcion call\n",
    "balance()\n"
   ]
  },
  {
   "attachments": {},
   "cell_type": "markdown",
   "metadata": {},
   "source": [
    "## Making a buy order"
   ]
  },
  {
   "cell_type": "code",
   "execution_count": null,
   "metadata": {},
   "outputs": [],
   "source": [
    "# Buy order\n",
    "auth_client.place_order(product_id = 'BTC-EUR',\n",
    "                        side = 'buy',\n",
    "                        order_type = 'market',\n",
    "                        size = '1')"
   ]
  },
  {
   "attachments": {},
   "cell_type": "markdown",
   "metadata": {},
   "source": [
    "## Making a sell order"
   ]
  },
  {
   "cell_type": "code",
   "execution_count": null,
   "metadata": {},
   "outputs": [],
   "source": [
    "# Sell order\n",
    "auth_client.place_order(product_id = 'BTC-EUR',\n",
    "                        side = 'sell',\n",
    "                        order_type = 'market',\n",
    "                        size = '1')"
   ]
  },
  {
   "attachments": {},
   "cell_type": "markdown",
   "metadata": {},
   "source": [
    "## Get data"
   ]
  },
  {
   "cell_type": "code",
   "execution_count": null,
   "metadata": {},
   "outputs": [],
   "source": [
    "# Function to get data\n",
    "def get_data(symbol, start, stop, granularity):\n",
    "\n",
    "    # Server request\n",
    "    data = client.get_product_historic_rates(product_id=symbol, \n",
    "                                             start=start,\n",
    "                                             stop=stop, \n",
    "                                             granularity=granularity)\n",
    "    \n",
    "    # Store data in a data frame\n",
    "    df = pd.DataFrame(data, columns=['time', \n",
    "                                     'low', \n",
    "                                     'high', \n",
    "                                     'open', \n",
    "                                     'close', \n",
    "                                     'volume'])\n",
    "    df['Date'] = pd.to_datetime(df['time'], unit='s')\n",
    "    df = df.set_index('Date')\n",
    "    df.drop('time', inplace=True, axis=1)\n",
    "    df = df.sort_values('Date', ascending=True)\n",
    "    df.columns = df.columns.str.capitalize()\n",
    "\n",
    "    # Change data types for calculations\n",
    "    df['Low'] = df['Low'].astype(float)\n",
    "    df['High'] = df['High'].astype(float)\n",
    "    df['Open'] = df['Open'].astype(float)\n",
    "    df['Close'] = df['Close'].astype(float)\n",
    "    df['Volume'] = df['Volume'].astype(float)\n",
    "    \n",
    "    return df\n",
    "\n",
    "# Function call to get daily data\n",
    "df = get_data(symbol = 'BTC-USD', \n",
    "              start = '2023-10-01',\n",
    "              stop = datetime.now().strftime(\"%Y-%m-%d\"),\n",
    "              granularity = 86400)\n",
    "df"
   ]
  },
  {
   "attachments": {},
   "cell_type": "markdown",
   "metadata": {},
   "source": [
    "## Explore the data"
   ]
  },
  {
   "cell_type": "code",
   "execution_count": null,
   "metadata": {},
   "outputs": [],
   "source": [
    "# Plot time-series\n",
    "plt.figure(figsize=(7, 4))\n",
    "plt.plot(df['Close'], color='#008000')\n",
    "plt.title('Bitcoin Price')\n",
    "plt.xlabel('Date')\n",
    "plt.ylabel('Close Price (USD)')\n",
    "plt.xticks(fontsize=8)\n",
    "plt.yticks(fontsize=8)\n",
    "plt.grid(True)\n",
    "\n",
    "plt.show()"
   ]
  },
  {
   "attachments": {},
   "cell_type": "markdown",
   "metadata": {},
   "source": [
    "## Technical analysis"
   ]
  },
  {
   "attachments": {},
   "cell_type": "markdown",
   "metadata": {},
   "source": [
    "### Simple Moving Average (SMA)"
   ]
  },
  {
   "cell_type": "code",
   "execution_count": null,
   "metadata": {},
   "outputs": [],
   "source": [
    "# Calculate different SMA by using different moving windows\n",
    "df['Fast_SMA'] = ta.trend.sma_indicator(close=df['Close'], window=10)\n",
    "df['Slow_SMA'] = ta.trend.sma_indicator(close=df['Close'], window=50)\n",
    "df"
   ]
  },
  {
   "attachments": {},
   "cell_type": "markdown",
   "metadata": {},
   "source": [
    "### Relative Strength Index (RSI)"
   ]
  },
  {
   "cell_type": "code",
   "execution_count": null,
   "metadata": {},
   "outputs": [],
   "source": [
    "# Calculate the RSI\n",
    "df['RSI'] = ta.momentum.rsi(close=df['Close'], window=20)\n",
    "df"
   ]
  },
  {
   "attachments": {},
   "cell_type": "markdown",
   "metadata": {},
   "source": [
    "### Bollinger Bands"
   ]
  },
  {
   "cell_type": "code",
   "execution_count": null,
   "metadata": {},
   "outputs": [],
   "source": [
    "# Calculate the Bollinger Bands\n",
    "bollinger = ta.volatility.BollingerBands(close=df['Close'], window=20, window_dev=2)\n",
    "\n",
    "# Extract the upper, middle, and lower bands\n",
    "upper_band = bollinger.bollinger_hband()\n",
    "middle_band = bollinger.bollinger_mavg()\n",
    "lower_band = bollinger.bollinger_lband()\n",
    "\n",
    "# Add the bands to the DataFrame\n",
    "df['Upper_BBand'] = upper_band\n",
    "df['Middle_BBand'] = middle_band\n",
    "df['Lower_BBand'] = lower_band\n",
    "df"
   ]
  },
  {
   "attachments": {},
   "cell_type": "markdown",
   "metadata": {},
   "source": [
    "## Plot technical indicators"
   ]
  },
  {
   "cell_type": "code",
   "execution_count": null,
   "metadata": {},
   "outputs": [],
   "source": [
    "# Plotting the close price\n",
    "plt.figure(figsize=(8, 5))\n",
    "plt.plot(df['Close'], label='Close price', linewidth=1.5)\n",
    "\n",
    "# Plotting the technical indicators\n",
    "plt.plot(df['Fast_SMA'], label='Fast SMA', linewidth=0.6, color='green', linestyle='--')\n",
    "plt.plot(df['Slow_SMA'], label='Slow SMA', linewidth=0.6, color='orange', linestyle='--')\n",
    "plt.plot(df['Upper_BBand'], label='Upper BBand', linewidth=0.6, color='gray')\n",
    "plt.plot(df['Middle_BBand'], label='Middle BBand', linewidth=0.6, color='darkred')\n",
    "plt.plot(df['Lower_BBand'], label='Lower BBand', linewidth=0.6, color='gray')\n",
    "\n",
    "# Set the chart title and labels\n",
    "plt.title('Technical indicators')\n",
    "plt.xlabel('Date', fontsize=10)\n",
    "plt.ylabel('Price', fontsize=10)\n",
    "\n",
    "# Settings for ticks\n",
    "plt.xticks(fontsize=8)\n",
    "plt.yticks(fontsize=8)\n",
    "\n",
    "# Add a grid\n",
    "plt.grid()\n",
    "\n",
    "# Add a legend\n",
    "plt.legend(loc='lower right', fontsize='small')\n",
    "\n",
    "# Display the chart\n",
    "plt.show()"
   ]
  },
  {
   "attachments": {},
   "cell_type": "markdown",
   "metadata": {},
   "source": [
    "## Defining the trading strategy"
   ]
  },
  {
   "attachments": {},
   "cell_type": "markdown",
   "metadata": {},
   "source": [
    "### Moving Average Crossover Strategy"
   ]
  },
  {
   "cell_type": "code",
   "execution_count": null,
   "metadata": {},
   "outputs": [],
   "source": [
    "# We use the Moving Average Crossover Strategy as trading strategy. The logic is as follows:\n",
    "# A crossover occurs when a faster moving average (i.e. a shorter period moving average) of\n",
    "# closing prices crosses a slower moving average (i.e. a longer period moving average). When \n",
    "# the fast moving average crosses above the slow moving average, it is a buying signal. When \n",
    "# it crosses below, it is a selling signal.\n",
    "\n",
    "class MovingAverageCrossStrategy():\n",
    "    '''\n",
    "    Creates signals and positions for the Moving Average Crossover strategy\n",
    "    param: data: name of the data set. Type = DataFrame\n",
    "    param: short_sma: size moving window for short SMA in days. Type = int\n",
    "    param: long_sma: size moving window for long SMA in days. Type = int\n",
    "    param: cop: cross-over points only (True) or position (False). Type = bool\n",
    "\n",
    "    returns: signals, moving averages (short, long) and positions. Type = DataFrame\n",
    "    '''\n",
    "    def __init__(self, data, fast_sma, slow_sma):\n",
    "        self.data = data\n",
    "        self.fast_sma = fast_sma\n",
    "        self.slow_sma = slow_sma\n",
    "\n",
    "    def generate_signals(self):\n",
    "        # Initialize the signals vector\n",
    "        signals = pd.DataFrame(index=self.data.index)\n",
    "\n",
    "        # Create short and long simple moving averages\n",
    "        fast_sma = vbt.MA.run(self.data['Close'], self.fast_sma, short_name='fast')\n",
    "        slow_sma = vbt.MA.run(self.data['Close'], self.slow_sma, short_name='slow')\n",
    "        \n",
    "        signals['Close'] = self.data['Close']\n",
    "        \n",
    "        signals['Fast_SMA'] = ta.trend.sma_indicator(close=self.data['Close'], window=self.fast_sma)\n",
    "        signals['Slow_SMA'] = ta.trend.sma_indicator(close=self.data['Close'], window=self.slow_sma)\n",
    "\n",
    "        # Create entries and exits\n",
    "        signals['Entries'] = fast_sma.ma_crossed_above(slow_sma).astype(int)\n",
    "        signals['Exits'] = fast_sma.ma_crossed_below(slow_sma).astype(int)\n",
    "\n",
    "        return signals\n"
   ]
  },
  {
   "attachments": {},
   "cell_type": "markdown",
   "metadata": {},
   "source": [
    "### Apply the Moving Average Crossover Strategy to the data"
   ]
  },
  {
   "cell_type": "code",
   "execution_count": null,
   "metadata": {},
   "outputs": [],
   "source": [
    "# Create class instance\n",
    "obj = MovingAverageCrossStrategy(df, 10, 50)\n",
    "\n",
    "# Call class method to create signals\n",
    "signals = obj.generate_signals()\n",
    "\n",
    "# Show signals for entries and exits\n",
    "signals.loc[(signals['Entries'] != 0) | (signals['Exits'] != 0)]"
   ]
  },
  {
   "attachments": {},
   "cell_type": "markdown",
   "metadata": {},
   "source": [
    "### Plot entry- and exit points"
   ]
  },
  {
   "cell_type": "code",
   "execution_count": null,
   "metadata": {},
   "outputs": [],
   "source": [
    "def plot_signals():\n",
    "\n",
    "    # Plot prices\n",
    "    plt.figure(figsize=(8, 5))\n",
    "    plt.plot(signals['Close'], label='Close price', linewidth=1)\n",
    "    plt.plot(signals['Fast_SMA'], label='Fast SMA', linewidth=1, color='orange')\n",
    "    plt.plot(signals['Slow_SMA'], label='Slow SMA', linewidth=1, color='green')\n",
    "\n",
    "    # Show crossover points\n",
    "    cp_buy = signals[signals['Entries'] == 1]\n",
    "    cp_sell = signals[signals['Exits'] == 1]\n",
    "    plt.scatter(cp_buy.index, cp_buy['Slow_SMA'], color='greenyellow', label='Buy signal')\n",
    "    plt.scatter(cp_sell.index, cp_sell['Slow_SMA'], color='red', label='Sell signal')\n",
    "\n",
    "    # Set the chart title and labels\n",
    "    plt.title('Moving Average Crossover Strategy')\n",
    "    plt.xlabel('Date')\n",
    "    plt.ylabel('Price')\n",
    "\n",
    "    # Settings for ticks\n",
    "    plt.xticks(fontsize=8)\n",
    "    plt.yticks(fontsize=8)\n",
    "\n",
    "    # Add a grid\n",
    "    plt.grid()\n",
    "\n",
    "    # Add a legend\n",
    "    plt.legend(loc='lower right', fontsize='small')\n",
    "    \n",
    "    plt.show()\n",
    "\n",
    "\n",
    "# Function call\n",
    "plot_signals()\n"
   ]
  },
  {
   "attachments": {},
   "cell_type": "markdown",
   "metadata": {},
   "source": [
    "## Backtesting the trading strategy"
   ]
  },
  {
   "attachments": {},
   "cell_type": "markdown",
   "metadata": {},
   "source": [
    "### Backtesting statistics"
   ]
  },
  {
   "cell_type": "code",
   "execution_count": null,
   "metadata": {},
   "outputs": [],
   "source": [
    "# Backtesting statistics:\n",
    "# Benchmark Return [%] = Buy & Hold return\n",
    "# Total Return [%] = strategy return\n",
    "\n",
    "# We invested 10,000 EUR, and assumed fees of 0.1% per trade\n",
    "pf = vbt.Portfolio.from_signals(signals['Close'], \n",
    "                                signals['Entries'], \n",
    "                                signals['Exits'], \n",
    "                                fees=0.001, \n",
    "                                init_cash=10000)\n",
    "pf.stats()"
   ]
  },
  {
   "attachments": {},
   "cell_type": "markdown",
   "metadata": {},
   "source": [
    "### Backtesting graphics"
   ]
  },
  {
   "attachments": {},
   "cell_type": "markdown",
   "metadata": {},
   "source": [
    "#### Positions and cumulated returns"
   ]
  },
  {
   "cell_type": "code",
   "execution_count": null,
   "metadata": {},
   "outputs": [],
   "source": [
    "pf.plot_positions().show()\n",
    "pf.plot_cum_returns().show()"
   ]
  },
  {
   "attachments": {},
   "cell_type": "markdown",
   "metadata": {},
   "source": [
    "### Optimizing the fast and slow SMA values for strategy"
   ]
  },
  {
   "attachments": {},
   "cell_type": "markdown",
   "metadata": {},
   "source": [
    "#### Heatmap with range of fast and slow SMA values and related returns"
   ]
  },
  {
   "cell_type": "code",
   "execution_count": null,
   "metadata": {},
   "outputs": [],
   "source": [
    "# Get data from Yahoo Finance\n",
    "symbols = [\"BTC-EUR\", \"BTC-USD\"]\n",
    "price = vbt.YFData.download(symbols, \n",
    "                            missing_index='drop', \n",
    "                            start='2023-10-01').get('Close')\n",
    "\n",
    "# Moving averages\n",
    "windows = np.arange(2, 101)\n",
    "fast_ma, slow_ma = vbt.MA.run_combs(price, \n",
    "                                    window=windows,\n",
    "                                    r=2, \n",
    "                                    short_names=['fast', 'slow'])\n",
    "entries = fast_ma.ma_crossed_above(slow_ma)\n",
    "exits = fast_ma.ma_crossed_below(slow_ma)\n",
    "\n",
    "# Calculation of returns\n",
    "pf_kwargs = dict(size=np.inf, fees=0.001, freq='1D')\n",
    "pf = vbt.Portfolio.from_signals(price, entries, exits)\n",
    "\n",
    "# Show slow and fast SMA providing the highest return (in EUR)\n",
    "df_optim = pd.DataFrame(pf.total_return(), columns=['total_return']).reset_index()\n",
    "df_optim_sub = df_optim.loc[df_optim['symbol'] == 'BTC-EUR']\n",
    "print('Fast and slow SMA with related optimal return:')\n",
    "print(df_optim_sub.loc[df_optim_sub['total_return'] == max(df_optim_sub['total_return'])])\n",
    "\n",
    "# Figure\n",
    "fig = pf.total_return().vbt.heatmap(x_level='fast_window', \n",
    "                                    y_level='slow_window', \n",
    "                                    slider_level='symbol', \n",
    "                                    symmetric=True,\n",
    "    trace_kwargs=dict(colorbar=dict(title='Total return', tickformat='%')))\n",
    "fig.show()\n"
   ]
  },
  {
   "attachments": {},
   "cell_type": "markdown",
   "metadata": {},
   "source": [
    "### Returns with optimized parameters"
   ]
  },
  {
   "cell_type": "code",
   "execution_count": null,
   "metadata": {},
   "outputs": [],
   "source": [
    "# New instance\n",
    "obj = MovingAverageCrossStrategy(df, 48, 53)\n",
    "signals = obj.generate_signals()\n",
    "signals.loc[(signals['Entries'] != 0) | (signals['Exits'] != 0)]\n",
    "\n",
    "# Backtesting\n",
    "pf = vbt.Portfolio.from_signals(signals['Close'], \n",
    "                                signals['Entries'], \n",
    "                                signals['Exits'], \n",
    "                                fees=0.001, \n",
    "                                init_cash=10000)\n",
    "\n",
    "# Graphics\n",
    "pf.plot_positions().show()\n",
    "pf.plot_cum_returns().show()\n",
    "\n",
    "# Backtesting statistics\n",
    "pf.stats()"
   ]
  },
  {
   "attachments": {},
   "cell_type": "markdown",
   "metadata": {},
   "source": [
    "## Running the trading bot to buy and sell the BTC-EUR pair"
   ]
  },
  {
   "cell_type": "code",
   "execution_count": null,
   "metadata": {},
   "outputs": [],
   "source": [
    "def run_trading_bot(symbol, start, stop, granularity, fast_sma, slow_sma):\n",
    "        \n",
    "    while True:\n",
    "\n",
    "        # Get current data\n",
    "        data = get_data(symbol = symbol, \n",
    "                        start = start,\n",
    "                        stop = stop,\n",
    "                        granularity = granularity)\n",
    "        \n",
    "        # Get signals\n",
    "        smacross = MovingAverageCrossStrategy(data, fast_sma, slow_sma)\n",
    "        strategy = smacross.generate_signals()\n",
    "\n",
    "        # Get current balance\n",
    "        bal_all = balance()\n",
    "        bal_btc = int(bal_all.loc[bal_all['Currency'] == 'BTC']['Value'])\n",
    "        bal_eur = int(bal_all.loc[bal_all['Currency'] == 'EUR']['Value'])\n",
    "\n",
    "        # Apply trading strategy\n",
    "        if strategy['Entries'][-1] == 1 and bal_btc > 0 and bal_eur > 0:\n",
    "            print(f\"Current balance: BTC: {bal_btc}, EUR: {bal_eur}\")\n",
    "            try:\n",
    "                auth_client.place_order(product_id = symbol,\n",
    "                            side = 'buy',\n",
    "                            order_type = 'market',\n",
    "                            size = '1')\n",
    "                print('Buy signal from strategy: Placed buy order!')\n",
    "            except:\n",
    "                print('Please check your balance!')\n",
    "\n",
    "        elif strategy['Exits'][-1] == 1 and bal_btc > 0 and bal_eur > 0:\n",
    "            print(f\"Current balance: BTC: {bal_btc}, EUR: {bal_eur}\")\n",
    "            try:\n",
    "                auth_client.place_order(product_id = symbol,\n",
    "                            side = 'sell',\n",
    "                            order_type = 'market',\n",
    "                            size = '1')\n",
    "                print('Sell signal from strategy: Placed sell order!')\n",
    "            except:\n",
    "                print('Please check your balance!')\n",
    "            \n",
    "        else:\n",
    "            print(f\"Bot is waiting for buy or sell signal!\")\n",
    "\n",
    "        # Wait until the next order is placed\n",
    "        time.sleep(60)\n",
    "\n",
    "# Run the trading bot with the optimized values for short_sma & long_sma\n",
    "today = datetime.now().strftime('%Y-%m-%d')\n",
    "# run_trading_bot('BTC-EUR', '2023-10-01', today, 86400, 48, 53)"
   ]
  },
  {
   "attachments": {},
   "cell_type": "markdown",
   "metadata": {},
   "source": [
    "### Jupyter notebook --footer info-- (please always provide this at the end of each notebook)"
   ]
  },
  {
   "cell_type": "code",
   "execution_count": null,
   "metadata": {},
   "outputs": [],
   "source": [
    "import os\n",
    "import platform\n",
    "import socket\n",
    "from platform import python_version\n",
    "from datetime import datetime\n",
    "\n",
    "print('-----------------------------------')\n",
    "print(os.name.upper())\n",
    "print(platform.system(), '|', platform.release())\n",
    "print('Datetime:', datetime.now().strftime(\"%Y-%m-%d %H:%M:%S\"))\n",
    "print('Python Version:', python_version())\n",
    "print('-----------------------------------')"
   ]
  }
 ],
 "metadata": {
  "kernelspec": {
   "display_name": "Python 3 (ipykernel)",
   "language": "python",
   "name": "python3"
  },
  "language_info": {
   "codemirror_mode": {
    "name": "ipython",
    "version": 3
   },
   "file_extension": ".py",
   "mimetype": "text/x-python",
   "name": "python",
   "nbconvert_exporter": "python",
   "pygments_lexer": "ipython3",
   "version": "3.10.11"
  }
 },
 "nbformat": 4,
 "nbformat_minor": 2
}
